{
 "cells": [
  {
   "cell_type": "code",
   "execution_count": 76,
   "metadata": {},
   "outputs": [],
   "source": [
    "import numpy as np\n",
    "import pandas as pd\n",
    "pd.set_option('max_rows', 1000)"
   ]
  },
  {
   "cell_type": "markdown",
   "metadata": {
    "collapsed": true
   },
   "source": [
    "First we need to import the stock 'world'. The 10 stocks that we need to analyze:"
   ]
  },
  {
   "cell_type": "code",
   "execution_count": 77,
   "metadata": {},
   "outputs": [],
   "source": [
    "def CalcDiv(df):\n",
    "    '''\n",
    "    Takes in a df with 7 columns, and returns a df with a Dividend Column\n",
    "    '''\n",
    "    df['Close_Ratio'] = df.Close.shift(1) / df.Close\n",
    "    df['Adj_Close_Ratio'] = df['Adj Close'].shift(1) / df['Adj Close']\n",
    "    df['Close_diff'] = df['Close_Ratio'] - df['Adj_Close_Ratio']\n",
    "    df['Dividend'] = (df['Close_diff'] * df['Close']).round(4)\n",
    "    \n",
    "    df = df.drop(['Close_Ratio','Adj_Close_Ratio','Close_diff'],axis=1)\n",
    "    \n",
    "    return df"
   ]
  },
  {
   "cell_type": "code",
   "execution_count": 78,
   "metadata": {},
   "outputs": [],
   "source": [
    "universe = ['IBM', 'MSFT', 'GOOG', 'AAPL', 'AMZN', 'FB', 'NFLX', 'TSLA', 'ORCL', 'SAP']\n",
    "df = {} #Define a dict to hold the dataframe keyed to the stock name\n",
    "for stock in universe:\n",
    "    dataframe = pd.read_csv('stocks/'+stock+'.csv',parse_dates=['Date'])\n",
    "    dataframe = CalcDiv(dataframe)\n",
    "    dataframe = dataframe.set_index('Date')\n",
    "    dataframe.index = pd.to_datetime(dataframe.index)\n",
    "    df[stock] = dataframe"
   ]
  },
  {
   "cell_type": "code",
   "execution_count": 79,
   "metadata": {
    "scrolled": false
   },
   "outputs": [
    {
     "data": {
      "text/html": [
       "<div>\n",
       "<style scoped>\n",
       "    .dataframe tbody tr th:only-of-type {\n",
       "        vertical-align: middle;\n",
       "    }\n",
       "\n",
       "    .dataframe tbody tr th {\n",
       "        vertical-align: top;\n",
       "    }\n",
       "\n",
       "    .dataframe thead th {\n",
       "        text-align: right;\n",
       "    }\n",
       "</style>\n",
       "<table border=\"1\" class=\"dataframe\">\n",
       "  <thead>\n",
       "    <tr style=\"text-align: right;\">\n",
       "      <th></th>\n",
       "      <th>Open</th>\n",
       "      <th>High</th>\n",
       "      <th>Low</th>\n",
       "      <th>Close</th>\n",
       "      <th>Adj Close</th>\n",
       "      <th>Volume</th>\n",
       "      <th>Dividend</th>\n",
       "    </tr>\n",
       "    <tr>\n",
       "      <th>Date</th>\n",
       "      <th></th>\n",
       "      <th></th>\n",
       "      <th></th>\n",
       "      <th></th>\n",
       "      <th></th>\n",
       "      <th></th>\n",
       "      <th></th>\n",
       "    </tr>\n",
       "  </thead>\n",
       "  <tbody>\n",
       "    <tr>\n",
       "      <td>2018-01-02</td>\n",
       "      <td>154.500000</td>\n",
       "      <td>154.809998</td>\n",
       "      <td>153.539993</td>\n",
       "      <td>154.250000</td>\n",
       "      <td>142.483978</td>\n",
       "      <td>4202500</td>\n",
       "      <td>NaN</td>\n",
       "    </tr>\n",
       "    <tr>\n",
       "      <td>2018-01-03</td>\n",
       "      <td>157.339996</td>\n",
       "      <td>159.809998</td>\n",
       "      <td>156.330002</td>\n",
       "      <td>158.490005</td>\n",
       "      <td>146.400558</td>\n",
       "      <td>9441600</td>\n",
       "      <td>-0.0</td>\n",
       "    </tr>\n",
       "    <tr>\n",
       "      <td>2018-01-04</td>\n",
       "      <td>159.649994</td>\n",
       "      <td>162.320007</td>\n",
       "      <td>159.369995</td>\n",
       "      <td>161.699997</td>\n",
       "      <td>149.365707</td>\n",
       "      <td>7556200</td>\n",
       "      <td>0.0</td>\n",
       "    </tr>\n",
       "    <tr>\n",
       "      <td>2018-01-05</td>\n",
       "      <td>162.440002</td>\n",
       "      <td>162.899994</td>\n",
       "      <td>161.100006</td>\n",
       "      <td>162.490005</td>\n",
       "      <td>150.095444</td>\n",
       "      <td>5195800</td>\n",
       "      <td>-0.0</td>\n",
       "    </tr>\n",
       "    <tr>\n",
       "      <td>2018-01-08</td>\n",
       "      <td>162.660004</td>\n",
       "      <td>163.910004</td>\n",
       "      <td>161.699997</td>\n",
       "      <td>163.470001</td>\n",
       "      <td>151.000687</td>\n",
       "      <td>5237500</td>\n",
       "      <td>0.0</td>\n",
       "    </tr>\n",
       "  </tbody>\n",
       "</table>\n",
       "</div>"
      ],
      "text/plain": [
       "                  Open        High         Low       Close   Adj Close  \\\n",
       "Date                                                                     \n",
       "2018-01-02  154.500000  154.809998  153.539993  154.250000  142.483978   \n",
       "2018-01-03  157.339996  159.809998  156.330002  158.490005  146.400558   \n",
       "2018-01-04  159.649994  162.320007  159.369995  161.699997  149.365707   \n",
       "2018-01-05  162.440002  162.899994  161.100006  162.490005  150.095444   \n",
       "2018-01-08  162.660004  163.910004  161.699997  163.470001  151.000687   \n",
       "\n",
       "             Volume  Dividend  \n",
       "Date                           \n",
       "2018-01-02  4202500       NaN  \n",
       "2018-01-03  9441600      -0.0  \n",
       "2018-01-04  7556200       0.0  \n",
       "2018-01-05  5195800      -0.0  \n",
       "2018-01-08  5237500       0.0  "
      ]
     },
     "execution_count": 79,
     "metadata": {},
     "output_type": "execute_result"
    }
   ],
   "source": [
    "df['IBM'].head()"
   ]
  },
  {
   "cell_type": "markdown",
   "metadata": {},
   "source": [
    "Now we start giving ourselves the $5M in cash:"
   ]
  },
  {
   "cell_type": "code",
   "execution_count": 80,
   "metadata": {},
   "outputs": [
    {
     "data": {
      "text/plain": [
       "Open         1.524800e+02\n",
       "High         1.531600e+02\n",
       "Low          1.475000e+02\n",
       "Close        1.475900e+02\n",
       "Adj Close    1.376743e+02\n",
       "Volume       6.779100e+06\n",
       "Dividend     1.500000e+00\n",
       "Name: 2018-02-08 00:00:00, dtype: float64"
      ]
     },
     "execution_count": 80,
     "metadata": {},
     "output_type": "execute_result"
    }
   ],
   "source": [
    "df['IBM'].loc['2018-02-08']"
   ]
  },
  {
   "cell_type": "code",
   "execution_count": 81,
   "metadata": {},
   "outputs": [],
   "source": [
    "cash_in_hand = 5000000\n",
    "stocks_to_buy = ['IBM', 'MSFT', 'GOOG', 'AAPL', 'AMZN']\n",
    "num_stocks_bought = {} #Shares that were bought\n",
    "cash_per_stock = cash_in_hand / len(stocks_to_buy)\n",
    "for stock in stocks_to_buy:\n",
    "    num_stocks_bought[stock] = cash_per_stock // df[stock].loc['2018-01-02'].Close\n",
    "    cash_in_hand -= (df[stock].loc['2018-01-02'].Close * num_stocks_bought[stock])"
   ]
  },
  {
   "cell_type": "code",
   "execution_count": 82,
   "metadata": {},
   "outputs": [
    {
     "data": {
      "text/plain": [
       "1312.545517000137"
      ]
     },
     "execution_count": 82,
     "metadata": {},
     "output_type": "execute_result"
    }
   ],
   "source": [
    "cash_in_hand"
   ]
  },
  {
   "cell_type": "markdown",
   "metadata": {},
   "source": [
    "Now we want to rebalance our portfolio. Lets define a function to do so:"
   ]
  },
  {
   "cell_type": "code",
   "execution_count": 83,
   "metadata": {},
   "outputs": [],
   "source": [
    "def RebalanceStocksLow(df,num_stocks_bought,cash_in_hand,prev_date,curr_date):\n",
    "    '''\n",
    "    Rebalances stocks: Takes the stock 'universe' stocks bought until now, cash in hand, the previous date,\n",
    "    and the date to rebalance on. \n",
    "    Returns the new number of stocks bought, and the new balance of cash in hand\n",
    "    '''\n",
    "    #Sell off current stocks and add to cash in hand\n",
    "    for stock in num_stocks_bought:\n",
    "        cash_in_hand += num_stocks_bought[stock] * df[stock].loc[curr_date].Close\n",
    "    #print('MTM: ',cash_in_hand)\n",
    "    \n",
    "    #Now lets see what are the 5 stocks that have dropped the most\n",
    "    stock_drops = {}\n",
    "    for stock in df:\n",
    "        stock_drops[stock] = (df[stock].loc[prev_date]['Adj Close'] - df[stock].loc[curr_date]['Adj Close'])/df[stock].loc[prev_date]['Adj Close']\n",
    "    stocks_to_buy = sorted(stock_drops, key=stock_drops.get,reverse=True)[0:5]\n",
    "    \n",
    "    #Now lets buy the new stocks\n",
    "    cash_per_stock = cash_in_hand / len(stocks_to_buy)\n",
    "    num_stocks_bought = {}\n",
    "    for stock in stocks_to_buy:\n",
    "        num_stocks_bought[stock] = cash_per_stock // df[stock].loc[curr_date].Close\n",
    "        cash_in_hand -= (df[stock].loc[curr_date].Close * num_stocks_bought[stock])\n",
    "        \n",
    "    return cash_in_hand, num_stocks_bought"
   ]
  },
  {
   "cell_type": "code",
   "execution_count": 84,
   "metadata": {},
   "outputs": [],
   "source": [
    "def RebalanceStocksHigh(df,num_stocks_bought,cash_in_hand,prev_date,curr_date):\n",
    "    '''\n",
    "    Rebalances stocks: Takes the stock 'universe' stocks bought until now, cash in hand, the previous date,\n",
    "    and the date to rebalance on. \n",
    "    Returns the new number of stocks bought, and the new balance of cash in hand\n",
    "    '''\n",
    "    #Sell off current stocks and add to cash in hand\n",
    "    for stock in num_stocks_bought:\n",
    "        cash_in_hand += num_stocks_bought[stock] * df[stock].loc[curr_date].Close\n",
    "    #print('MTM: ',cash_in_hand)\n",
    "    \n",
    "    #Now lets see what are the 5 stocks that have increased the most\n",
    "    stock_drops = {}\n",
    "    for stock in df:\n",
    "        stock_drops[stock] = (df[stock].loc[prev_date]['Adj Close'] - df[stock].loc[curr_date]['Adj Close'])/df[stock].loc[prev_date]['Adj Close']\n",
    "    stocks_to_buy = sorted(stock_drops, key=stock_drops.get)[0:5]\n",
    "    \n",
    "    #Now lets buy the new stocks\n",
    "    cash_per_stock = cash_in_hand / len(stocks_to_buy)\n",
    "    num_stocks_bought = {}\n",
    "    for stock in stocks_to_buy:\n",
    "        num_stocks_bought[stock] = cash_per_stock // df[stock].loc[curr_date].Close\n",
    "        cash_in_hand -= (df[stock].loc[curr_date].Close * num_stocks_bought[stock])\n",
    "        \n",
    "    return cash_in_hand, num_stocks_bought"
   ]
  },
  {
   "cell_type": "code",
   "execution_count": 85,
   "metadata": {},
   "outputs": [],
   "source": [
    "def sumDividend(df,num_stocks_bought,date):\n",
    "    '''\n",
    "    Takes in the stock universe, the stocks we have bought, the cash on hand, and the date, \n",
    "    and adds the dividend amount to the cash_in_hand. Returns updated cash_in_hand.\n",
    "    '''\n",
    "    dividend = 0\n",
    "    for stock in num_stocks_bought:\n",
    "        dividend += num_stocks_bought[stock] * np.nan_to_num(df[stock].loc[date]['Dividend'])\n",
    "    \n",
    "    return dividend"
   ]
  },
  {
   "cell_type": "code",
   "execution_count": 86,
   "metadata": {},
   "outputs": [
    {
     "name": "stdout",
     "output_type": "stream",
     "text": [
      "1047.8680820005247 {'AAPL': 5957.0, 'SAP': 9097.0, 'MSFT': 11772.0, 'FB': 5528.0, 'GOOG': 938.0}\n"
     ]
    }
   ],
   "source": [
    "cash_in_hand, num_stocks_bought = RebalanceStocksLow(df,num_stocks_bought,cash_in_hand,'2018-01-02','2018-01-09')\n",
    "print(cash_in_hand, num_stocks_bought)"
   ]
  },
  {
   "cell_type": "code",
   "execution_count": 87,
   "metadata": {
    "scrolled": false
   },
   "outputs": [],
   "source": [
    "cash_in_hand = 5000000\n",
    "stocks_to_buy = ['IBM', 'MSFT', 'GOOG', 'AAPL', 'AMZN']\n",
    "num_stocks_bought = {} #Shares that were bought\n",
    "cash_per_stock = cash_in_hand / len(stocks_to_buy)\n",
    "MTM = 0\n",
    "for stock in stocks_to_buy:\n",
    "    num_stocks_bought[stock] = cash_per_stock // df[stock].loc['2018-01-02'].Close\n",
    "    cash_in_hand -= (df[stock].loc['2018-01-02'].Close * num_stocks_bought[stock])\n",
    "    \n",
    "all_dates = df['IBM'].index.tolist()\n",
    "prev_date = '2018-01-02'\n",
    "counter = 0\n",
    "all_mtms = []\n",
    "for date in all_dates:\n",
    "    #print('Date: ',date)\n",
    "    cash_in_hand += sumDividend(df,num_stocks_bought,date)\n",
    "    \n",
    "    if (counter%5 == 0):\n",
    "        #print(date)\n",
    "        cash_in_hand, num_stocks_bought = RebalanceStocksLow(df,num_stocks_bought,cash_in_hand,prev_date,date)\n",
    "        #print(cash_in_hand, num_stocks_bought)\n",
    "    \n",
    "    #Add the dividend\n",
    "    #print(date, sumDividend(df,num_stocks_bought,date))\n",
    "    \n",
    "    MTM = cash_in_hand\n",
    "    for stock in num_stocks_bought:\n",
    "        MTM += num_stocks_bought[stock] * df[stock].loc[date].Close\n",
    "        \n",
    "    all_mtms.append(MTM.round(2))\n",
    "    counter += 1  \n",
    "    prev_date = date\n",
    "\n",
    "MTM_array_low = pd.Series(all_mtms)"
   ]
  },
  {
   "cell_type": "code",
   "execution_count": 88,
   "metadata": {},
   "outputs": [
    {
     "data": {
      "text/plain": [
       "0      5000000.00\n",
       "1      5061134.14\n",
       "2      5103637.21\n",
       "3      5164048.72\n",
       "4      5187003.72\n",
       "5      5192788.32\n",
       "6      5187192.15\n",
       "7      5217649.66\n",
       "8      5272912.16\n",
       "9      5272994.36\n",
       "10     5336563.70\n",
       "11     5331206.74\n",
       "12     5306725.77\n",
       "13     5326037.47\n",
       "14     5365292.32\n",
       "15     5327767.79\n",
       "16     5372810.56\n",
       "17     5471410.97\n",
       "18     5496678.40\n",
       "19     5429440.99\n",
       "20     5467152.93\n",
       "21     5382456.39\n",
       "22     5311097.33\n",
       "23     5129837.31\n",
       "24     5262344.81\n",
       "25     5214161.70\n",
       "26     4942848.40\n",
       "27     4949811.89\n",
       "28     5055370.53\n",
       "29     5104259.36\n",
       "30     5205201.29\n",
       "31     5283935.74\n",
       "32     5247247.44\n",
       "33     5240137.61\n",
       "34     5253570.79\n",
       "35     5253787.52\n",
       "36     5342095.92\n",
       "37     5407488.89\n",
       "38     5342239.14\n",
       "39     5301162.17\n",
       "40     5185810.13\n",
       "41     5239423.35\n",
       "42     5350907.97\n",
       "43     5381617.93\n",
       "44     5418954.63\n",
       "45     5392924.40\n",
       "46     5504295.38\n",
       "47     5533900.13\n",
       "48     5457363.55\n",
       "49     5449055.42\n",
       "50     5449192.55\n",
       "51     5442822.92\n",
       "52     5367058.35\n",
       "53     5246187.81\n",
       "54     5219180.16\n",
       "55     5106715.84\n",
       "56     4986635.45\n",
       "57     5143275.77\n",
       "58     4952841.30\n",
       "59     4827937.33\n",
       "60     4902643.04\n",
       "61     4721776.60\n",
       "62     4812234.17\n",
       "63     4934324.62\n",
       "64     5049294.92\n",
       "65     4952690.33\n",
       "66     4954377.45\n",
       "67     5098130.40\n",
       "68     5094212.80\n",
       "69     5096406.20\n",
       "70     5128329.10\n",
       "71     5096306.09\n",
       "72     5229013.83\n",
       "73     5235936.70\n",
       "74     5228405.35\n",
       "75     5112539.30\n",
       "76     5070524.41\n",
       "77     4921144.89\n",
       "78     4914505.10\n",
       "79     5072706.53\n",
       "80     5060046.85\n",
       "81     5015738.29\n",
       "82     5070819.66\n",
       "83     5035974.72\n",
       "84     4993331.78\n",
       "85     5064978.68\n",
       "86     5135878.77\n",
       "87     5144618.99\n",
       "88     5228750.98\n",
       "89     5265766.23\n",
       "90     5247265.57\n",
       "91     5251863.36\n",
       "92     5206890.24\n",
       "93     5210401.81\n",
       "94     5194883.70\n",
       "95     5171087.80\n",
       "96     5230598.84\n",
       "97     5217836.87\n",
       "98     5280470.09\n",
       "99     5289472.48\n",
       "100    5295689.49\n",
       "101    5290928.75\n",
       "102    5356096.79\n",
       "103    5315834.96\n",
       "104    5408823.14\n",
       "105    5457019.62\n",
       "106    5471104.58\n",
       "107    5579399.35\n",
       "108    5529935.92\n",
       "109    5527407.14\n",
       "110    5583691.52\n",
       "111    5641836.14\n",
       "112    5651099.84\n",
       "113    5758125.46\n",
       "114    5747103.71\n",
       "115    5814211.37\n",
       "116    5740501.05\n",
       "117    5724428.86\n",
       "118    5661906.02\n",
       "119    5634220.99\n",
       "120    5551523.19\n",
       "121    5590725.73\n",
       "122    5557012.79\n",
       "123    5597973.74\n",
       "124    5598517.60\n",
       "125    5605209.23\n",
       "126    5521327.18\n",
       "127    5610000.87\n",
       "128    5710705.52\n",
       "129    5791030.09\n",
       "130    5782945.16\n",
       "131    5774802.39\n",
       "132    5847564.58\n",
       "133    5896589.50\n",
       "134    5872393.73\n",
       "135    5964704.41\n",
       "136    5952510.55\n",
       "137    5895587.73\n",
       "138    5901003.44\n",
       "139    5900217.86\n",
       "140    5956722.47\n",
       "141    6040117.19\n",
       "142    5780090.47\n",
       "143    5723532.95\n",
       "144    5629868.87\n",
       "145    5629715.24\n",
       "146    5705386.62\n",
       "147    5989024.76\n",
       "148    5996884.98\n",
       "149    6058619.52\n",
       "150    6187657.29\n",
       "151    6182829.64\n",
       "152    6133368.35\n",
       "153    6113664.10\n",
       "154    6096768.39\n",
       "155    6111626.42\n",
       "156    6023740.85\n",
       "157    5992225.76\n",
       "158    5983895.25\n",
       "159    5971918.02\n",
       "160    5960761.63\n",
       "161    6014169.78\n",
       "162    5985632.50\n",
       "163    6094917.17\n",
       "164    6148810.61\n",
       "165    6128300.44\n",
       "166    6213994.21\n",
       "167    6223681.78\n",
       "168    6242580.65\n",
       "169    6236492.99\n",
       "170    6097679.61\n",
       "171    6029040.07\n",
       "172    6003486.32\n",
       "173    6007665.10\n",
       "174    6088319.80\n",
       "175    6071512.98\n",
       "176    6065987.83\n",
       "177    6092637.29\n",
       "178    6013252.83\n",
       "179    6041597.39\n",
       "180    6083595.34\n",
       "181    6160924.54\n",
       "182    6137557.34\n",
       "183    6158649.50\n",
       "184    6174631.34\n",
       "185    6240308.43\n",
       "186    6278631.44\n",
       "187    6043154.06\n",
       "188    6252896.38\n",
       "189    6161782.95\n",
       "190    6143517.26\n",
       "191    6026853.26\n",
       "192    5957943.78\n",
       "193    5904752.78\n",
       "194    5951275.79\n",
       "195    5658683.42\n",
       "196    5599028.59\n",
       "197    5699698.20\n",
       "198    5677328.32\n",
       "199    5874735.70\n",
       "200    5756681.33\n",
       "201    5579199.92\n",
       "202    5543193.66\n",
       "203    5571518.61\n",
       "204    5562105.82\n",
       "205    5237426.15\n",
       "206    5408790.87\n",
       "207    5410519.32\n",
       "208    5344513.98\n",
       "209    5344790.18\n",
       "210    5422013.90\n",
       "211    5507704.89\n",
       "212    5458094.41\n",
       "213    5439243.72\n",
       "214    5459856.24\n",
       "215    5688359.04\n",
       "216    5637193.44\n",
       "217    5498650.16\n",
       "218    5305167.19\n",
       "219    5290149.81\n",
       "220    5205823.82\n",
       "221    5264859.29\n",
       "222    5240527.56\n",
       "223    5097818.24\n",
       "224    5048839.20\n",
       "225    5076972.27\n",
       "226    5026475.32\n",
       "227    5185803.69\n",
       "228    5177291.50\n",
       "229    5350120.11\n",
       "230    5330407.80\n",
       "231    5371286.36\n",
       "232    5478288.66\n",
       "233    5254027.16\n",
       "234    5286047.00\n",
       "235    5112325.50\n",
       "236    5195589.57\n",
       "237    5205809.07\n",
       "238    5272303.92\n",
       "239    5302663.54\n",
       "240    5205352.15\n",
       "241    5085293.88\n",
       "242    5134733.43\n",
       "243    5065547.50\n",
       "244    5018717.01\n",
       "245    4818897.38\n",
       "246    4647740.02\n",
       "247    4964786.98\n",
       "248    4959445.29\n",
       "249    4992457.02\n",
       "250    5014579.76\n",
       "dtype: float64"
      ]
     },
     "execution_count": 88,
     "metadata": {},
     "output_type": "execute_result"
    }
   ],
   "source": [
    "cash_in_hand = 5000000\n",
    "stocks_to_buy = ['IBM', 'MSFT', 'GOOG', 'AAPL', 'AMZN']\n",
    "num_stocks_bought = {} #Shares that were bought\n",
    "cash_per_stock = cash_in_hand / len(stocks_to_buy)\n",
    "MTM = 0\n",
    "for stock in stocks_to_buy:\n",
    "    num_stocks_bought[stock] = cash_per_stock // df[stock].loc['2018-01-02'].Close\n",
    "    cash_in_hand -= (df[stock].loc['2018-01-02'].Close * num_stocks_bought[stock])\n",
    "    \n",
    "all_dates = df['IBM'].index.tolist()\n",
    "prev_date = '2018-01-02'\n",
    "counter = 0\n",
    "all_mtms = []\n",
    "for date in all_dates:\n",
    "    #print('Date: ',date)\n",
    "    cash_in_hand += sumDividend(df,num_stocks_bought,date)\n",
    "    \n",
    "    if (counter%5 == 0):\n",
    "        #print(date)\n",
    "        cash_in_hand, num_stocks_bought = RebalanceStocksHigh(df,num_stocks_bought,cash_in_hand,prev_date,date)\n",
    "        #print(cash_in_hand, num_stocks_bought)\n",
    "    \n",
    "    #Add the dividend\n",
    "    #print(date, sumDividend(df,num_stocks_bought,date))\n",
    "    \n",
    "    MTM = cash_in_hand\n",
    "    for stock in num_stocks_bought:\n",
    "        MTM += num_stocks_bought[stock] * df[stock].loc[date].Close\n",
    "        \n",
    "    all_mtms.append(MTM.round(2))\n",
    "    counter += 1  \n",
    "    prev_date = date\n",
    "\n",
    "MTM_array_high = pd.Series(all_mtms)\n",
    "#print('MTM: ',MTM_array_high)\n",
    "MTM_array_high"
   ]
  },
  {
   "cell_type": "code",
   "execution_count": 89,
   "metadata": {},
   "outputs": [],
   "source": [
    "import matplotlib.pyplot as plt\n",
    "%matplotlib inline"
   ]
  },
  {
   "cell_type": "code",
   "execution_count": 90,
   "metadata": {},
   "outputs": [
    {
     "data": {
      "text/plain": [
       "[<matplotlib.lines.Line2D at 0x109ecfd50>]"
      ]
     },
     "execution_count": 90,
     "metadata": {},
     "output_type": "execute_result"
    },
    {
     "data": {
      "image/png": "[encoded data removed]",
      "text/plain": [
       "<Figure size 432x288 with 1 Axes>"
      ]
     },
     "metadata": {
      "needs_background": "light"
     },
     "output_type": "display_data"
    }
   ],
   "source": [
    "fig = plt.figure()\n",
    "ax = plt.axes()\n",
    "\n",
    "ax.plot(pd.Series(all_dates), MTM_array_low)\n",
    "ax.plot(pd.Series(all_dates), MTM_array_high)"
   ]
  },
  {
   "cell_type": "code",
   "execution_count": 91,
   "metadata": {},
   "outputs": [
    {
     "data": {
      "text/plain": [
       "[<matplotlib.lines.Line2D at 0x11c1edbd0>]"
      ]
     },
     "execution_count": 91,
     "metadata": {},
     "output_type": "execute_result"
    },
    {
     "data": {
      "image/png": "[encoded data removed]",
      "text/plain": [
       "<Figure size 432x288 with 1 Axes>"
      ]
     },
     "metadata": {
      "needs_background": "light"
     },
     "output_type": "display_data"
    },
    {
     "data": {
      "image/png": "[encoded data removed]",
      "text/plain": [
       "<Figure size 432x288 with 1 Axes>"
      ]
     },
     "metadata": {
      "needs_background": "light"
     },
     "output_type": "display_data"
    }
   ],
   "source": [
    "# find the daily high tech index\n",
    "indexes = df['IBM'].index\n",
    "high_tech_index = pd.Series(np.zeros(len(indexes)),indexes)\n",
    "for stock in universe:\n",
    "    high_tech_index += df[stock].Close\n",
    "high_tech_index /= 10\n",
    "\n",
    "# convert series into daily percentage change\n",
    "high_tech_index_0 = high_tech_index.iloc[0]\n",
    "high_tech_index_percent = ((high_tech_index-high_tech_index_0)/high_tech_index_0)*100\n",
    "\n",
    "MTM_array_low_0 = MTM_array_low.iloc[0]\n",
    "MTM_array_high_0 = MTM_array_low.iloc[0]\n",
    "MTM_array_low_percent = ((MTM_array_low-MTM_array_low_0)/MTM_array_low_0)*100\n",
    "MTM_array_high_percent = ((MTM_array_high-MTM_array_high_0)/MTM_array_high_0)*100\n",
    "\n",
    "# plot the two series (MTM low vs. high tech index)\n",
    "fig2 = plt.figure()\n",
    "ax2 = plt.axes()\n",
    "\n",
    "ax2.plot(indexes, MTM_array_low_percent)\n",
    "ax2.plot(indexes, high_tech_index_percent)\n",
    "\n",
    "# plot the two series (MTM high vs. high tech index)\n",
    "fig3 = plt.figure()\n",
    "ax3 = plt.axes()\n",
    "\n",
    "ax3.plot(indexes, MTM_array_high_percent)\n",
    "ax3.plot(indexes, high_tech_index_percent)"
   ]
  },
  {
   "cell_type": "code",
   "execution_count": null,
   "metadata": {},
   "outputs": [],
   "source": []
  },
  {
   "cell_type": "code",
   "execution_count": 92,
   "metadata": {},
   "outputs": [],
   "source": [
    "# find optimal days interval to maximize MTM (rebalance low)\n",
    "def find_max_mtm_low(num_days):\n",
    "    cash_in_hand = 5000000\n",
    "    stocks_to_buy = ['IBM', 'MSFT', 'GOOG', 'AAPL', 'AMZN']\n",
    "    num_stocks_bought = {} #Shares that were bought\n",
    "    cash_per_stock = cash_in_hand / len(stocks_to_buy)\n",
    "    MTM = 0\n",
    "    for stock in stocks_to_buy:\n",
    "        num_stocks_bought[stock] = cash_per_stock // df[stock].loc['2018-01-02'].Close\n",
    "        cash_in_hand -= (df[stock].loc['2018-01-02'].Close * num_stocks_bought[stock])\n",
    "\n",
    "    all_dates = df['IBM'].index.tolist()\n",
    "    prev_date = '2018-01-02'\n",
    "    counter = 0\n",
    "    all_mtms = []\n",
    "    for date in all_dates:\n",
    "        #print('Date: ',date)\n",
    "        cash_in_hand += sumDividend(df,num_stocks_bought,date)\n",
    "\n",
    "        if (counter%num_days == 0):\n",
    "            #print(date)\n",
    "            cash_in_hand, num_stocks_bought = RebalanceStocksLow(df,num_stocks_bought,cash_in_hand,prev_date,date)\n",
    "            #print(cash_in_hand, num_stocks_bought)\n",
    "\n",
    "        #Add the dividend\n",
    "        #print(date, sumDividend(df,num_stocks_bought,date))\n",
    "\n",
    "        MTM = cash_in_hand\n",
    "        for stock in num_stocks_bought:\n",
    "            MTM += num_stocks_bought[stock] * df[stock].loc[date].Close\n",
    "\n",
    "        all_mtms.append(MTM.round(2))\n",
    "        counter += 1  \n",
    "        prev_date = date\n",
    "\n",
    "    MTM_array_low = pd.Series(all_mtms)\n",
    "    MTM_max = MTM_array_low.iloc[-1]\n",
    "    return MTM_max"
   ]
  },
  {
   "cell_type": "code",
   "execution_count": 93,
   "metadata": {},
   "outputs": [
    {
     "name": "stdout",
     "output_type": "stream",
     "text": [
      "Optimal days interval to maximize MTM (rebalance low):  61\n",
      "MTM with the optimal days interval is  6226745.79\n"
     ]
    }
   ],
   "source": [
    "# find optimal days interval to maximize MTM (rebalance low)\n",
    "all_max_mtms = []\n",
    "for num_days in range(1,len(all_dates)+1):\n",
    "    all_max_mtms.append(find_max_mtm_low(num_days))\n",
    "    \n",
    "max_MTMs = pd.Series(all_max_mtms, index=np.arange(1,len(all_dates)+1))\n",
    "max_MTM_num_of_days_idx = max_MTMs.idxmax()\n",
    "overall_max_MTM = max_MTMs.loc[max_MTM_num_of_days_idx]\n",
    "print(\"Optimal days interval to maximize MTM (rebalance low): \", max_MTM_num_of_days_idx)\n",
    "print(\"MTM with the optimal days interval is \", overall_max_MTM)"
   ]
  },
  {
   "cell_type": "code",
   "execution_count": 94,
   "metadata": {},
   "outputs": [],
   "source": [
    "# find optimal days interval to maximize MTM (rebalance high)\n",
    "def find_max_mtm_high(num_days):\n",
    "    cash_in_hand = 5000000\n",
    "    stocks_to_buy = ['IBM', 'MSFT', 'GOOG', 'AAPL', 'AMZN']\n",
    "    num_stocks_bought = {} #Shares that were bought\n",
    "    cash_per_stock = cash_in_hand / len(stocks_to_buy)\n",
    "    MTM = 0\n",
    "    for stock in stocks_to_buy:\n",
    "        num_stocks_bought[stock] = cash_per_stock // df[stock].loc['2018-01-02'].Close\n",
    "        cash_in_hand -= (df[stock].loc['2018-01-02'].Close * num_stocks_bought[stock])\n",
    "\n",
    "    all_dates = df['IBM'].index.tolist()\n",
    "    prev_date = '2018-01-02'\n",
    "    counter = 0\n",
    "    all_mtms = []\n",
    "    for date in all_dates:\n",
    "        #print('Date: ',date)\n",
    "        cash_in_hand += sumDividend(df,num_stocks_bought,date)\n",
    "\n",
    "        if (counter%num_days == 0):\n",
    "            #print(date)\n",
    "            cash_in_hand, num_stocks_bought = RebalanceStocksHigh(df,num_stocks_bought,cash_in_hand,prev_date,date)\n",
    "            #print(cash_in_hand, num_stocks_bought)\n",
    "\n",
    "        #Add the dividend\n",
    "        #print(date, sumDividend(df,num_stocks_bought,date))\n",
    "\n",
    "        MTM = cash_in_hand\n",
    "        for stock in num_stocks_bought:\n",
    "            MTM += num_stocks_bought[stock] * df[stock].loc[date].Close\n",
    "\n",
    "        all_mtms.append(MTM.round(2))\n",
    "        counter += 1  \n",
    "        prev_date = date\n",
    "\n",
    "    MTM_array_high = pd.Series(all_mtms)\n",
    "    MTM_max = MTM_array_high.iloc[-1]\n",
    "    return MTM_max"
   ]
  },
  {
   "cell_type": "code",
   "execution_count": 95,
   "metadata": {},
   "outputs": [
    {
     "name": "stdout",
     "output_type": "stream",
     "text": [
      "Optimal days interval to maximize MTM (rebalance high):  60\n",
      "MTM with the optimal days interval is  6084005.95\n"
     ]
    }
   ],
   "source": [
    "# find optimal days interval to maximize MTM (rebalance high)\n",
    "all_max_mtms = []\n",
    "for num_days in range(1,len(all_dates)+1):\n",
    "    all_max_mtms.append(find_max_mtm_high(num_days))\n",
    "    \n",
    "max_MTMs = pd.Series(all_max_mtms, index=np.arange(1,len(all_dates)+1))\n",
    "max_MTM_num_of_days_idx = max_MTMs.idxmax()\n",
    "overall_max_MTM = max_MTMs.loc[max_MTM_num_of_days_idx]\n",
    "print(\"Optimal days interval to maximize MTM (rebalance high): \", max_MTM_num_of_days_idx)\n",
    "print(\"MTM with the optimal days interval is \", overall_max_MTM)"
   ]
  }
 ],
 "metadata": {
  "kernelspec": {
   "display_name": "Python 3",
   "language": "python",
   "name": "python3"
  },
  "language_info": {
   "codemirror_mode": {
    "name": "ipython",
    "version": 3
   },
   "file_extension": ".py",
   "mimetype": "text/x-python",
   "name": "python",
   "nbconvert_exporter": "python",
   "pygments_lexer": "ipython3",
   "version": "3.7.4"
  }
 },
 "nbformat": 4,
 "nbformat_minor": 2
}
